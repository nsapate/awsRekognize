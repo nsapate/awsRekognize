{
 "cells": [
  {
   "cell_type": "code",
   "execution_count": 1,
   "metadata": {
    "collapsed": true
   },
   "outputs": [
    {
     "name": "stdout",
     "output_type": "stream",
     "text": [
      "Collecting boto3\n",
      "  Downloading boto3-1.7.2-py2.py3-none-any.whl (128kB)\n",
      "Collecting jmespath<1.0.0,>=0.7.1 (from boto3)\n",
      "  Downloading jmespath-0.9.3-py2.py3-none-any.whl\n",
      "Collecting s3transfer<0.2.0,>=0.1.10 (from boto3)\n",
      "  Downloading s3transfer-0.1.13-py2.py3-none-any.whl (59kB)\n",
      "Collecting botocore<1.11.0,>=1.10.2 (from boto3)\n",
      "  Downloading botocore-1.10.2-py2.py3-none-any.whl (4.2MB)\n",
      "Requirement already satisfied: python-dateutil<2.7.0,>=2.1 in c:\\users\\nsapa\\anaconda3\\lib\\site-packages (from botocore<1.11.0,>=1.10.2->boto3)\n",
      "Requirement already satisfied: docutils>=0.10 in c:\\users\\nsapa\\anaconda3\\lib\\site-packages (from botocore<1.11.0,>=1.10.2->boto3)\n",
      "Requirement already satisfied: six>=1.5 in c:\\users\\nsapa\\anaconda3\\lib\\site-packages (from python-dateutil<2.7.0,>=2.1->botocore<1.11.0,>=1.10.2->boto3)\n",
      "Installing collected packages: jmespath, botocore, s3transfer, boto3\n",
      "Successfully installed boto3-1.7.2 botocore-1.10.2 jmespath-0.9.3 s3transfer-0.1.13\n"
     ]
    },
    {
     "name": "stderr",
     "output_type": "stream",
     "text": [
      "You are using pip version 9.0.2, however version 9.0.3 is available.\n",
      "You should consider upgrading via the 'python -m pip install --upgrade pip' command.\n"
     ]
    }
   ],
   "source": [
    "!pip install boto3"
   ]
  },
  {
   "cell_type": "code",
   "execution_count": 10,
   "metadata": {
    "scrolled": true
   },
   "outputs": [
    {
     "name": "stdout",
     "output_type": "stream",
     "text": [
      "Detected labels for greenForest.jpg\n",
      "Flora : 88.26163482666016\n",
      "Forest : 88.26163482666016\n",
      "Land : 88.26163482666016\n",
      "Nature : 88.26163482666016\n",
      "Outdoors : 88.26163482666016\n",
      "Plant : 88.26163482666016\n",
      "Tree : 88.26163482666016\n",
      "Vegetation : 88.26163482666016\n",
      "Conifer : 70.6690444946289\n",
      "Rainforest : 66.72713470458984\n",
      "Redwood : 61.89278793334961\n",
      "Grove : 56.35469436645508\n",
      "Oak : 55.3697509765625\n",
      "Jungle : 54.89048385620117\n",
      "Path : 50.950889587402344\n",
      "Trail : 50.950889587402344\n",
      "Birch : 50.916786193847656\n",
      "Pine : 50.88118362426758\n",
      "Moss : 50.63097381591797\n"
     ]
    }
   ],
   "source": [
    "# you will need to install boto3 (pip install boto3)\n",
    "# The buckect 007bucket007 is public. Make sure you have configured your aws credentials\n",
    "import boto3\n",
    "\n",
    "if __name__ == \"__main__\":\n",
    "    fileName='greenForest.jpg'\n",
    "    bucket='007bucket007'\n",
    "    \n",
    "    client=boto3.client('rekognition','us-east-1')\n",
    "\n",
    "    response = client.detect_labels(Image={'S3Object':{'Bucket':bucket,'Name':fileName}})\n",
    "\n",
    "    print('Detected labels for ' + fileName)    \n",
    "    for label in response['Labels']:\n",
    "        print (label['Name'] + ' : ' + str(label['Confidence']))\n",
    " "
   ]
  },
  {
   "cell_type": "code",
   "execution_count": 3,
   "metadata": {},
   "outputs": [
    {
     "name": "stdout",
     "output_type": "stream",
     "text": [
      "s3.bucketsCollection(s3.ServiceResource(), s3.Bucket)\n",
      "s3.Bucket(name='007bucket007')\n",
      "s3.Bucket(name='1yolo')\n",
      "s3.Bucket(name='aggieyes')\n",
      "s3.Bucket(name='amazon-rekogntion')\n",
      "s3.Bucket(name='aws-codestar-us-east-2-678681181395')\n",
      "s3.Bucket(name='aws-codestar-us-east-2-678681181395-reminder-app')\n",
      "s3.Bucket(name='aws-codestar-us-east-2-678681181395-reminder-pipe')\n",
      "s3.Bucket(name='deeplens-sagemaker-9c7695d3-efa4-46e9-8e1d-39f8fb1736cd')\n",
      "s3.Bucket(name='elasticbeanstalk-us-east-2-678681181395')\n",
      "s3.Bucket(name='jellybeanstamu')\n",
      "s3.Bucket(name='mind-control2018')\n",
      "Done.\n"
     ]
    }
   ],
   "source": [
    "s3 = boto3.resource('s3')\n",
    "\n",
    "print(s3.buckets.all())\n",
    "\n",
    "for bucket in s3.buckets.all():\n",
    "    print(bucket)\n",
    "\n",
    "print('Done.')"
   ]
  }
 ],
 "metadata": {
  "kernelspec": {
   "display_name": "Python 3",
   "language": "python",
   "name": "python3"
  },
  "language_info": {
   "codemirror_mode": {
    "name": "ipython",
    "version": 3
   },
   "file_extension": ".py",
   "mimetype": "text/x-python",
   "name": "python",
   "nbconvert_exporter": "python",
   "pygments_lexer": "ipython3",
   "version": "3.6.1"
  }
 },
 "nbformat": 4,
 "nbformat_minor": 2
}
